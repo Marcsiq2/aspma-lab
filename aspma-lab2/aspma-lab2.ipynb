{
 "cells": [
  {
   "cell_type": "markdown",
   "metadata": {},
   "source": [
    "# Marc Siquier Peñafort ASPMA LAB SESSIONS 2-3\n",
    "[Task_definition](http://www.dtic.upf.edu/~aporter/amplab/)\n",
    "## Task 2: Agreement between AcousticBrainz vs Million Song Database"
   ]
  },
  {
   "cell_type": "markdown",
   "metadata": {},
   "source": [
    "Import all necessary functions"
   ]
  },
  {
   "cell_type": "code",
   "execution_count": 1,
   "metadata": {
    "collapsed": false
   },
   "outputs": [],
   "source": [
    "from utils import *\n",
    "from evaluate import *\n",
    "import numpy as np\n",
    "import pandas as pd\n",
    "from mir_eval.key import weighted_score as key_eval\n",
    "from mir_eval.beat import f_measure as beat_eval"
   ]
  },
  {
   "cell_type": "markdown",
   "metadata": {},
   "source": [
    "Define the location for Database files"
   ]
  },
  {
   "cell_type": "code",
   "execution_count": 2,
   "metadata": {
    "collapsed": false
   },
   "outputs": [],
   "source": [
    "AB_LOWLEVEL = 'Files/ab-2017-01-23-lowlevel-features.csv'\n",
    "MSD_SUMMARY = 'Files/msd-2017-02-10-summary.json'\n",
    "MBID_MSD = 'Files/msd-mbid-2016-01-results-ab.csv'"
   ]
  },
  {
   "cell_type": "markdown",
   "metadata": {},
   "source": [
    "Import and process necessary data for BPM, DAN and KEY from each Dataset file.\n",
    "\n",
    "__NOTE:__ _(Execution time: 1 minute)_"
   ]
  },
  {
   "cell_type": "code",
   "execution_count": 3,
   "metadata": {
    "collapsed": false,
    "scrolled": true
   },
   "outputs": [
    {
     "name": "stdout",
     "output_type": "stream",
     "text": [
      "Loading AB...\n",
      "Processed 2352902 AB entries!!\n",
      "Loading MSD...\n",
      "MSD loaded!!\n",
      "Processing...\n",
      "Processed 237962 MSD entries!!\n",
      "Loading IDS...\n",
      "IDS loaded!!\n",
      "Processing...\n",
      "Processed 282046 IDS entries!!\n",
      "CPU times: user 1min 17s, sys: 4.12 s, total: 1min 21s\n",
      "Wall time: 1min 22s\n"
     ]
    }
   ],
   "source": [
    "%%time\n",
    "ab = import_ab(AB_LOWLEVEL)\n",
    "msd = import_msd(MSD_SUMMARY, key_conf=0.6)\n",
    "ids = import_ids(MBID_MSD)"
   ]
  },
  {
   "cell_type": "markdown",
   "metadata": {},
   "source": [
    "We check if AB entries exist both in IDS file and in MSD Dataset.\n",
    "If they exist both in AB and MSD we check that the duration is similar."
   ]
  },
  {
   "cell_type": "code",
   "execution_count": 4,
   "metadata": {
    "collapsed": false
   },
   "outputs": [
    {
     "name": "stdout",
     "output_type": "stream",
     "text": [
      "Common elements: 212147\n"
     ]
    }
   ],
   "source": [
    "dur_th = 0.05 #precision window for duration\n",
    "mix = check_duration(ab, msd, ids, dur_th)\n",
    "print 'Common elements: %i' % len(mix)"
   ]
  },
  {
   "cell_type": "markdown",
   "metadata": {},
   "source": [
    "### AB bpm vs MSD tempo"
   ]
  },
  {
   "cell_type": "markdown",
   "metadata": {},
   "source": [
    "####  Compute Accuracy 1\n",
    "* Accuracy 1: The percentage of AB bpm estimates within 4% (the precision window) of the MSD tempo."
   ]
  },
  {
   "cell_type": "code",
   "execution_count": 5,
   "metadata": {
    "collapsed": false
   },
   "outputs": [
    {
     "name": "stdout",
     "output_type": "stream",
     "text": [
      "IF WE TAKE MSD AS GROUNDTRUTH:\n",
      "Correct instances:\t136550\n",
      "Total instances:\t212147\n",
      "Accuracy:\t\t0.6437\n",
      "\n",
      "IF WE TAKE AB AS GROUNDTRUTH:\n",
      "Correct instances:\t136571\n",
      "Total instances:\t212147\n",
      "Accuracy:\t\t0.6438\n",
      "\n"
     ]
    }
   ],
   "source": [
    "bpm_th = 0.04 #precision window for bpm\n",
    "\n",
    "correct1 = 0\n",
    "correct2 = 0\n",
    "for d1, d2 in mix:\n",
    "    correct1 += compare(d1['bpm'], d2['bpm'], bpm_th)\n",
    "    correct2 += compare(d2['bpm'], d1['bpm'], bpm_th)\n",
    "\n",
    "print \"IF WE TAKE MSD AS GROUNDTRUTH:\"\n",
    "print \"Correct instances:\\t%i\" % (correct1)\n",
    "print \"Total instances:\\t%i\" % (len(mix))\n",
    "print \"Accuracy:\\t\\t%.4f\\n\" % (correct1/float(len(mix)))\n",
    "print \"IF WE TAKE AB AS GROUNDTRUTH:\"\n",
    "print \"Correct instances:\\t%i\" % (correct2)\n",
    "print \"Total instances:\\t%i\" % (len(mix))\n",
    "print \"Accuracy:\\t\\t%.4f\\n\" % (correct2/float(len(mix)))\n"
   ]
  },
  {
   "cell_type": "markdown",
   "metadata": {},
   "source": [
    "#### Compute Accuracy 2\n",
    "\n",
    "* Accuracy 2: The percentage of AB bpm estimates within 4% of either the MSD tempo, or half, double, three times, or one third of the MSD tempo."
   ]
  },
  {
   "cell_type": "code",
   "execution_count": 6,
   "metadata": {
    "collapsed": false
   },
   "outputs": [
    {
     "name": "stdout",
     "output_type": "stream",
     "text": [
      "IF WE TAKE MSB AS GROUNDTRUTH:\n",
      "Correct instances:\t162810\n",
      "Total instances:\t212147\n",
      "Accuracy:\t\t0.7674\n",
      "\n",
      "IF WE TAKE AB AS GROUNDTRUTH:\n",
      "Correct instances:\t162831\n",
      "Total instances:\t212147\n",
      "Accuracy:\t\t0.7675\n",
      "\n"
     ]
    }
   ],
   "source": [
    "bpm_th = 0.04 #precision window for bpm\n",
    "\n",
    "correct1 = 0\n",
    "correct2 = 0\n",
    "for d1, d2 in mix:\n",
    "    correct1 += adv_compare(d1['bpm'], d2['bpm'], bpm_th)\n",
    "    correct2 += adv_compare(d2['bpm'], d1['bpm'], bpm_th)\n",
    "\n",
    "print \"IF WE TAKE MSB AS GROUNDTRUTH:\"\n",
    "print \"Correct instances:\\t%i\" % (correct1)\n",
    "print \"Total instances:\\t%i\" % (len(mix))\n",
    "print \"Accuracy:\\t\\t%.4f\\n\" % (correct1/float(len(mix)))\n",
    "print \"IF WE TAKE AB AS GROUNDTRUTH:\"\n",
    "print \"Correct instances:\\t%i\" % (correct2)\n",
    "print \"Total instances:\\t%i\" % (len(mix))\n",
    "print \"Accuracy:\\t\\t%.4f\\n\" % (correct2/float(len(mix)))"
   ]
  },
  {
   "cell_type": "markdown",
   "metadata": {},
   "source": [
    "### AB key_key/key_scale vs key/mode\n",
    "* consider different confidence levels provided by MSD (key_confidence, mode_confidence) in evaluation\n",
    "* use [mir_eval library](https://craffel.github.io/mir_eval/#module-mir_eval.key)\n"
   ]
  },
  {
   "cell_type": "code",
   "execution_count": 7,
   "metadata": {
    "collapsed": false
   },
   "outputs": [
    {
     "name": "stdout",
     "output_type": "stream",
     "text": [
      "IF WE TAKE MSD AS GROUNDTRUTH:\n",
      "Total instances:\t45100\n",
      "Score:\t\t\t0.6248\n",
      "\n",
      "IF WE TAKE AB AS GROUNDTRUTH:\n",
      "Total instances:\t45100\n",
      "Score:\t\t\t0.5950\n",
      "\n"
     ]
    }
   ],
   "source": [
    "score1 = []\n",
    "score2 = []\n",
    "for d1, d2 in mix:\n",
    "    if d2['key']:\n",
    "        score1.append(key_eval(d1['key'], d2['key']))\n",
    "        score2.append(key_eval(d2['key'], d1['key']))\n",
    "print \"IF WE TAKE MSD AS GROUNDTRUTH:\"\n",
    "print \"Total instances:\\t%i\" % (len(score1))\n",
    "print \"Score:\\t\\t\\t%.4f\\n\" % (sum(score1)/float(len(score1)))\n",
    "print \"IF WE TAKE AB AS GROUNDTRUTH:\"\n",
    "print \"Total instances:\\t%i\" % (len(score2))\n",
    "print \"Score:\\t\\t\\t%.4f\\n\" % (sum(score2)/float(len(score2)))"
   ]
  },
  {
   "cell_type": "markdown",
   "metadata": {},
   "source": [
    "## <span style=\"color:blue\">IN ORDER TO CONTINUE WITH BEATS EVALUATION:\n",
    "\n",
    "## <span style=\"color:BLUE\">RESTART THE KERNEL AND RE-RUN CELL 1 (IMPORTS)\n",
    "### AB beats_position vs MSD beats_start \n",
    "* consider different confidence levels provided by MSD (beats_confidence) in evaluation\n",
    "* use [mir_eval library](https://craffel.github.io/mir_eval/#module-mir_eval.beat)\n",
    "\n",
    "Define the location for all needed dataset files"
   ]
  },
  {
   "cell_type": "code",
   "execution_count": 4,
   "metadata": {
    "collapsed": false
   },
   "outputs": [],
   "source": [
    "MBID_MSD = 'Files/msd-mbid-2016-01-results-ab.csv'\n",
    "AB_BEATS = 'Files/ab-2017-01-23-beats.csv'\n",
    "MSD_BEATS = 'Files/msd-2017-02-10-beats-rounded.csv'"
   ]
  },
  {
   "cell_type": "markdown",
   "metadata": {},
   "source": [
    "Import and process necessary data for BEATS evaluation from each Dataset file.\n",
    "\n",
    "__NOTE:__ _(Execution time: 6 minutes)_"
   ]
  },
  {
   "cell_type": "code",
   "execution_count": null,
   "metadata": {
    "collapsed": false,
    "scrolled": true
   },
   "outputs": [
    {
     "name": "stdout",
     "output_type": "stream",
     "text": [
      "Loading IDS...\n",
      "IDS loaded!!\n",
      "Processing...\n",
      "Processed 282046 IDS entries!!\n",
      "Loading AB beats...\n",
      "Processed 282046 AB beats instances...\n",
      "Loading MSD beats...\n",
      "Processed 237962 MSD beats instances...\n"
     ]
    },
    {
     "name": "stderr",
     "output_type": "stream",
     "text": [
      "/usr/local/lib/python2.7/dist-packages/mir_eval/beat.py:93: UserWarning: Estimated beats are empty.\n",
      "  warnings.warn(\"Estimated beats are empty.\")\n",
      "/usr/local/lib/python2.7/dist-packages/mir_eval/beat.py:91: UserWarning: Reference beats are empty.\n",
      "  warnings.warn(\"Reference beats are empty.\")\n"
     ]
    }
   ],
   "source": [
    "%%time\n",
    "ids = import_ids(MBID_MSD)\n",
    "ab_beats = import_ab_beats(AB_BEATS)\n",
    "msd_beats = import_msd_beats(MSD_BEATS, beats_conf=0.7)\n",
    "\n",
    "idskeys = set(ids.keys())\n",
    "msdkeys = set(msd_beats.keys())\n",
    "score1 = []\n",
    "score2 = []\n",
    "for mbid in ab_beats:\n",
    "    if mbid in idskeys:\n",
    "        msdk = ids[mbid]\n",
    "        if msdk in msdkeys:\n",
    "            b1 = ab_beats[mbid]\n",
    "            b2 = np.array(msd_beats[msdk])\n",
    "            score1.append(beat_eval(b1, b2))\n",
    "            score2.append(beat_eval(b2, b1))\n",
    "\n",
    "print 'IF WE TAKE MSD AS GROUND TRUTH'\n",
    "print \"Total instances:\\t%i\" % (len(score1))\n",
    "print 'F_score:\\t\\t%.4f\\n' % (sum(score1) / float(len(score1)))\n",
    "\n",
    "print 'IF WE TAKE AB AS GROUND TRUTH'  \n",
    "print \"Total instances:\\t%i\" % (len(score2))\n",
    "print 'F_score:\\t\\t%.4f\\n' % (sum(score2) / float(len(score2)))"
   ]
  }
 ],
 "metadata": {
  "kernelspec": {
   "display_name": "Python 2",
   "language": "python",
   "name": "python2"
  },
  "language_info": {
   "codemirror_mode": {
    "name": "ipython",
    "version": 2
   },
   "file_extension": ".py",
   "mimetype": "text/x-python",
   "name": "python",
   "nbconvert_exporter": "python",
   "pygments_lexer": "ipython2",
   "version": "2.7.12"
  }
 },
 "nbformat": 4,
 "nbformat_minor": 2
}
