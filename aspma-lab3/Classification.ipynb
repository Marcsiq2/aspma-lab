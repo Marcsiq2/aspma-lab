{
 "cells": [
  {
   "cell_type": "markdown",
   "metadata": {
    "deletable": true,
    "editable": true
   },
   "source": [
    "# Marc Siquier - Classification"
   ]
  },
  {
   "cell_type": "code",
   "execution_count": 2,
   "metadata": {
    "collapsed": false,
    "deletable": true,
    "editable": true
   },
   "outputs": [],
   "source": [
    "%matplotlib inline\n",
    "import matplotlib.pyplot as plt\n",
    "import numpy as np\n",
    "import utils\n",
    "import random\n",
    "import os\n",
    "import collections\n",
    "import numpy\n",
    "from sklearn import svm, tree\n",
    "from sklearn.feature_extraction.text import TfidfVectorizer\n",
    "from sklearn.decomposition import TruncatedSVD\n",
    "from IPython.core.display import display, HTML"
   ]
  },
  {
   "cell_type": "code",
   "execution_count": 3,
   "metadata": {
    "collapsed": false,
    "deletable": true,
    "editable": true
   },
   "outputs": [
    {
     "name": "stdout",
     "output_type": "stream",
     "text": [
      "Loaded dataet \"broad\" (3 classes, 100 sounds per class)\n"
     ]
    }
   ],
   "source": [
    "# Load dataset from saved file\n",
    "DATASET_NAME = 'broad'\n",
    "dataset = utils.load_from_json('%s.json' % DATASET_NAME)\n",
    "N = len(dataset[dataset.keys()[0]]) # Number of sounds per class\n",
    "CLASS_NAMES = dataset.keys()\n",
    "print 'Loaded dataet \"%s\" (%i classes, %i sounds per class)' % (DATASET_NAME, len(dataset.keys()), N)"
   ]
  },
  {
   "cell_type": "code",
   "execution_count": 4,
   "metadata": {
    "collapsed": true,
    "deletable": true,
    "editable": true
   },
   "outputs": [],
   "source": [
    "# Set configuration parameters (to be used below)\n",
    "NUMBER_OF_DIMENSIONS_OF_FEATURE_VECTOR = 10 # Maximum number of dimensions for the feature vector.\n",
    "CLASSIFIER_TYPE = 'tree' # Use 'svm' or 'tree'\n",
    "PERCENTAGE_OF_TRAINING_DATA = 0.5 # Percentage of sounds that will be used for training (others are for testing)\n",
    "MAX_INPUT_TAGS_FOR_TESTING = 50 # Use a big number to \"omit\" this parameter and use as many tags as originally are in the sound\n",
    "DESCRIPTORS = False\n",
    "NO_KEYWORDS = ['http', 'rel=\"nofollow\"', 'href', 'https', 'sound' , 'recorded', 'This', 'sounds']"
   ]
  },
  {
   "cell_type": "markdown",
   "metadata": {
    "deletable": true,
    "editable": true
   },
   "source": [
    "### 3) Define vector space"
   ]
  },
  {
   "cell_type": "code",
   "execution_count": 5,
   "metadata": {
    "collapsed": false,
    "deletable": true,
    "editable": true
   },
   "outputs": [
    {
     "name": "stdout",
     "output_type": "stream",
     "text": [
      "Created prototype feature vector with 10 dimensions (originally 777 dimensions)\n",
      "Prototype vector tags (sorted by occurrence in filtered_tags): guitar, electric, acoustic, distorted, chord, distortion, Guitar, rock, loop, riff \n",
      "\n",
      "Created prototype feature vector with 10 dimensions (originally 1006 dimensions)\n",
      "Prototype vector keywords (sorted by occurrence in filtered_keywords): guitar, electric guitar, acoustic guitar, Recorded, played, Guitar, loop, playing, distorted, distortion \n",
      "\n",
      "Final feature vector size 15 features: [u'Guitar', u'chord', u'electric', u'acoustic guitar', u'played', u'electric guitar', u'rock', u'Recorded', u'distortion', u'guitar', u'riff', u'distorted', u'acoustic', u'playing', u'loop']\n"
     ]
    }
   ],
   "source": [
    "def build_tag_vector_space(n_dimensions, dataset, class_names): \n",
    "    # Get all tags in the dataset (the vocabulary)\n",
    "    all_tags = list()\n",
    "    for class_name in class_names:\n",
    "        class_tags = utils.get_all_tags_from_class(class_name, dataset)\n",
    "        all_tags += class_tags\n",
    "        \n",
    "    all_tags = [tag for tag in all_tags if tag not in NO_KEYWORDS]\n",
    "    # Filter out tags with less frequency (get only top N tags)\n",
    "    most_common_tags = [tag for tag, count in collections.Counter(all_tags).most_common(n_dimensions)]\n",
    "    filtered_tags = [tag for tag in most_common_tags if tag in all_tags]\n",
    "    \n",
    "    # Build our prototype feature vector (unique list of tags), and print first 10 tags\n",
    "    prototype_feature_vector = list(set(filtered_tags))\n",
    "    print 'Created prototype feature vector with %i dimensions (originally %i dimensions)' % (\n",
    "        len(prototype_feature_vector), len(set(all_tags)))\n",
    "    print 'Prototype vector tags (sorted by occurrence in filtered_tags):', ', '.join([tag for tag in filtered_tags[:10]]),\n",
    "    print '...\\n' if len(filtered_tags) > 10 else '\\n'\n",
    "    return prototype_feature_vector\n",
    "\n",
    "def build_keyword_vector_space(n_dimensions, dataset, class_names): \n",
    "    # Get all keywords in the dataset (the vocabulary)\n",
    "    all_keywords = list()\n",
    "    for class_name in class_names:\n",
    "        class_keywords = utils.get_all_keywords_from_class(class_name, dataset)\n",
    "        all_keywords += class_keywords\n",
    "        \n",
    "    all_keywords = [k for k in all_keywords if k not in NO_KEYWORDS]    \n",
    "    # Filter out keywords with less frequency (get only top N keywords)\n",
    "    most_common_keywords = [k for k, count in collections.Counter(all_keywords).most_common(n_dimensions)]\n",
    "    filtered_keywords = [k for k in most_common_keywords if k in all_keywords]\n",
    "    \n",
    "    # Build our prototype feature vector (unique list of keywords), and print first 10 keywords\n",
    "    prototype_feature_vector = list(set(filtered_keywords))\n",
    "    print 'Created prototype feature vector with %i dimensions (originally %i dimensions)' % (\n",
    "        len(prototype_feature_vector), len(set(all_keywords)))\n",
    "    print 'Prototype vector keywords (sorted by occurrence in filtered_keywords):', ', '.join([k for k in filtered_keywords[:10]]),\n",
    "    print '...\\n' if len(filtered_keywords) > 10 else '\\n'\n",
    "    return prototype_feature_vector\n",
    "\n",
    "\n",
    "prototype_feature_vector_tags = build_tag_vector_space(\n",
    "    n_dimensions=NUMBER_OF_DIMENSIONS_OF_FEATURE_VECTOR,\n",
    "    dataset=dataset,\n",
    "    class_names=CLASS_NAMES,\n",
    ")\n",
    "\n",
    "prototype_feature_vector_keywords = (build_keyword_vector_space(\n",
    "    n_dimensions=NUMBER_OF_DIMENSIONS_OF_FEATURE_VECTOR,\n",
    "    dataset=dataset,\n",
    "    class_names=CLASS_NAMES,\n",
    "))\n",
    "\n",
    "prototype_feature_vector = list(set(prototype_feature_vector_tags) | set(prototype_feature_vector_keywords) - set(NO_KEYWORDS))\n",
    "print 'Final feature vector size ' + str(len(prototype_feature_vector)) + ' features: '+ str(prototype_feature_vector)"
   ]
  },
  {
   "cell_type": "markdown",
   "metadata": {
    "deletable": true,
    "editable": true
   },
   "source": [
    "### 4) Project documents in the vector space"
   ]
  },
  {
   "cell_type": "code",
   "execution_count": 6,
   "metadata": {
    "collapsed": false,
    "deletable": true,
    "editable": true
   },
   "outputs": [
    {
     "data": {
      "text/html": [
       "<iframe frameborder=\"0\" scrolling=\"no\" src=\"http://www.freesound.org/embed/sound/iframe/118516/simple/medium/\" width=\"481\" height=\"86\"></iframe>"
      ],
      "text/plain": [
       "<IPython.core.display.HTML object>"
      ]
     },
     "metadata": {},
     "output_type": "display_data"
    },
    {
     "name": "stdout",
     "output_type": "stream",
     "text": [
      "Chosen sound has features: chopped, sample, 118bpm, electric, Nate, level, BPM, distorted, bpm, 118, guitar, riff, bend, rock, loops, overdrive, blues, loop\n"
     ]
    },
    {
     "data": {
      "text/html": [
       "<table><tr><td>Guitar</td><td>chord</td><td>electric</td><td>acoustic guitar</td><td>played</td><td>electric guitar</td><td>rock</td><td>Recorded</td><td>distortion</td><td>guitar</td><td>riff</td><td>distorted</td><td>acoustic</td><td>playing</td><td>loop</td></tr><tr><td></td><td></td><td>x</td><td></td><td></td><td></td><td>x</td><td></td><td></td><td>x</td><td>x</td><td>x</td><td></td><td></td><td>x</td></tr></table>"
      ],
      "text/plain": [
       "<IPython.core.display.HTML object>"
      ]
     },
     "metadata": {},
     "output_type": "display_data"
    }
   ],
   "source": [
    "# Example of getting feature vector from tags list...\n",
    "random_sound = random.choice(dataset[random.choice(dataset.keys())])\n",
    "random_sound_tags = random_sound['tags']\n",
    "random_sound_keywords = random_sound['keywords']\n",
    "random_sound_features = list(set(random_sound_tags) | set(random_sound_keywords) - set(NO_KEYWORDS))\n",
    "random_sound_feature_vector = utils.get_feature_vector_from_tags(random_sound_features, prototype_feature_vector)\n",
    "\n",
    "display(HTML(utils.get_sound_embed_html(random_sound['id'])))\n",
    "print 'Chosen sound has features:', ', '.join(random_sound_features)\n",
    "html = '<table><tr><td>'\n",
    "html += '</td><td>'.join([f for f in prototype_feature_vector])\n",
    "html += '</td></tr><tr><td>'\n",
    "html += '</td><td>'.join(['x' if prototype_feature_vector[count] in random_sound_features else '' \n",
    "                          for count, item in enumerate(random_sound_feature_vector)])\n",
    "html += '</td></tr></table>'\n",
    "display(HTML(html))"
   ]
  },
  {
   "cell_type": "markdown",
   "metadata": {
    "deletable": true,
    "editable": true
   },
   "source": [
    "### 5) Define train and testing set"
   ]
  },
  {
   "cell_type": "code",
   "execution_count": 7,
   "metadata": {
    "collapsed": false,
    "deletable": true,
    "editable": true
   },
   "outputs": [
    {
     "name": "stdout",
     "output_type": "stream",
     "text": [
      "Created training and testing sets with the following number of sounds:\n",
      "\tTrain\tTest\n",
      "\t50\t50\tDistorted Guitar\n",
      "\t50\t50\tElectric Guitar\n",
      "\t50\t50\tAcoustic Guitar\n"
     ]
    }
   ],
   "source": [
    "def create_train_and_test_sets(dataset, class_names, n_sounds_per_class, percentage_training_data, \n",
    "                               max_input_tags_for_testing):\n",
    "    \n",
    "    n_training_sounds_per_class = int(n_sounds_per_class * percentage_training_data)\n",
    "    training_set = dict()\n",
    "    testing_set = dict()\n",
    "\n",
    "    # Get 'n_training_sounds_per_class' sounds per class \n",
    "    for class_name, sounds in dataset.items():\n",
    "        sounds_from_class = sounds[:] # Copy the list so when we later shuffle it does not affect the original data \n",
    "        #random.shuffle(sounds_from_class)\n",
    "        training_set[class_name] = sounds_from_class[:n_training_sounds_per_class] # First sounds for training\n",
    "        testing_set[class_name] = sounds_from_class[n_training_sounds_per_class:] # Following sounds for testing\n",
    "     \n",
    "        # Save a trimmed version of input tags for testing sounds\n",
    "        for sound in testing_set[class_name]:\n",
    "            sound['tags'] = random.sample(sound['tags'], min(max_input_tags_for_testing, len(sound['tags'])))\n",
    "\n",
    "    print 'Created training and testing sets with the following number of sounds:\\n\\tTrain\\tTest'\n",
    "    for class_name in class_names:\n",
    "        training_sounds = training_set[class_name]\n",
    "        testing_sounds = testing_set[class_name]\n",
    "        print '\\t%i\\t%i\\t%s' % (len(training_sounds), len(testing_sounds), class_name)\n",
    "    return training_set, testing_set\n",
    "\n",
    "training_set, testing_set = create_train_and_test_sets(\n",
    "    dataset=dataset, \n",
    "    class_names=CLASS_NAMES,\n",
    "    n_sounds_per_class=N,\n",
    "    percentage_training_data=PERCENTAGE_OF_TRAINING_DATA,\n",
    "    max_input_tags_for_testing=MAX_INPUT_TAGS_FOR_TESTING,\n",
    ")"
   ]
  },
  {
   "cell_type": "markdown",
   "metadata": {
    "deletable": true,
    "editable": true
   },
   "source": [
    "### 6) Train classifier"
   ]
  },
  {
   "cell_type": "code",
   "execution_count": 8,
   "metadata": {
    "collapsed": false,
    "deletable": true,
    "editable": true,
    "scrolled": false
   },
   "outputs": [
    {
     "name": "stdout",
     "output_type": "stream",
     "text": [
      "Training classifier (tree) with 150 sounds...\n"
     ]
    }
   ],
   "source": [
    "def build_tag_feature_vector(sound):\n",
    "    features = list(set(sound['tags']) | set(sound['keywords']) - set(NO_KEYWORDS))\n",
    "    tag_features = utils.get_feature_vector_from_tags(features, prototype_feature_vector)\n",
    "    return np.concatenate([[], tag_features])\n",
    "\n",
    "def train_classifier(training_set, classifier_type, class_names, dataset_name, feature_vector_func, \n",
    "                     feature_vector_dimension_labels=None):\n",
    "\n",
    "    # Prepare data for fitting classifier (as sklearn classifiers require)\n",
    "    classes_vector = list()\n",
    "    feature_vectors = list()\n",
    "    for class_name, sounds in training_set.items():\n",
    "        for count, sound in enumerate(sounds):\n",
    "            # Use index of class name in CLASS_NAMES as numerical value (classifier internally represents \n",
    "            # class label as number)\n",
    "            classes_vector.append(CLASS_NAMES.index(class_name))\n",
    "            feature_vector = feature_vector_func(sound)\n",
    "            if DESCRIPTORS:\n",
    "                try:\n",
    "                    mfcc = sound['analysis']['lowlevel']['mfcc']['mean']\n",
    "                    mfcc_norm = [float(i)/sum(mfcc) for i in mfcc[1:]]\n",
    "                    feature_vector = np.append(feature_vector, mfcc_norm)\n",
    "                except:\n",
    "                    feature_vector = np.append(feature_vector, [0,0,0,0,0,0,0,0,0,0,0,0])\n",
    "            feature_vectors.append(feature_vector)\n",
    "    # Create and fit classifier\n",
    "    print 'Training classifier (%s) with %i sounds...' % (CLASSIFIER_TYPE, len(feature_vectors)),\n",
    "    if classifier_type == 'svm':\n",
    "        classifier = svm.LinearSVC()\n",
    "        classifier.fit(feature_vectors, classes_vector)\n",
    "    elif classifier_type == 'tree':\n",
    "        classifier = tree.DecisionTreeClassifier(max_depth=5)\n",
    "        classifier.fit(feature_vectors, classes_vector)\n",
    "        # Plot classifier decision rules\n",
    "        # WARNING: do not run this if tree is too big, might freeze\n",
    "        out_filename = os.getcwd() + '/%s-tree.png' % dataset_name\n",
    "        #utils.export_tree_as_graph(\n",
    "        #    classifier, feature_vector_dimension_labels, class_names=class_names, filename=out_filename)\n",
    "        #display(HTML('<h4>Learned tree:</h4><img src=\"%s\"/>' % out_filename))\n",
    "    else:\n",
    "        raise Exception('Bad classifier type!!!')\n",
    "    return classifier\n",
    "        \n",
    "classifier = train_classifier(\n",
    "    training_set=training_set,\n",
    "    classifier_type=CLASSIFIER_TYPE, \n",
    "    class_names=CLASS_NAMES, \n",
    "    dataset_name=DATASET_NAME,\n",
    "    feature_vector_func=build_tag_feature_vector,\n",
    "    feature_vector_dimension_labels=prototype_feature_vector,\n",
    ")"
   ]
  },
  {
   "cell_type": "markdown",
   "metadata": {
    "deletable": true,
    "editable": true
   },
   "source": [
    "### 7) Evaluate classification"
   ]
  },
  {
   "cell_type": "code",
   "execution_count": 9,
   "metadata": {
    "collapsed": false,
    "deletable": true,
    "editable": true,
    "scrolled": false
   },
   "outputs": [
    {
     "name": "stdout",
     "output_type": "stream",
     "text": [
      "\n",
      "Evaluating with 150 instances... done!\n",
      "127 correct predictions\n",
      "23 wrong predictions\n",
      "Overall accuracy 84.67%\n",
      "Confussion matrix\n"
     ]
    },
    {
     "data": {
      "image/png": "[encoded data removed]",
      "text/plain": [
       "<matplotlib.figure.Figure at 0x7f8a84c27350>"
      ]
     },
     "metadata": {},
     "output_type": "display_data"
    },
    {
     "data": {
      "text/plain": [
       "0.8466666666666667"
      ]
     },
     "execution_count": 9,
     "metadata": {},
     "output_type": "execute_result"
    }
   ],
   "source": [
    "def evaluate_classifier(testing_set, classifier, class_names, feature_vector_func, show_confussing_matrix=True):\n",
    "    # Test with testing set\n",
    "    print '\\nEvaluating with %i instances...' % sum([len(sounds) for sounds in testing_set.values()]),\n",
    "    predicted_data = list()\n",
    "    for class_name, sounds in testing_set.items():\n",
    "        for count, sound in enumerate(sounds):\n",
    "            feature_vector = feature_vector_func(sound)\n",
    "            if DESCRIPTORS:\n",
    "                try:\n",
    "                    mfcc = sound['analysis']['lowlevel']['barkbands']['mean']\n",
    "                    mfcc_norm = [float(i)/sum(mfcc) for i in mfcc[1:]]\n",
    "                    feature_vector = np.append(feature_vector.append, mfcc_norm)\n",
    "                except: \n",
    "                    feature_vector = np.append(feature_vector, [0,0,0,0,0,0,0,0,0,0,0,0])\n",
    "                          \n",
    "            predicted_class_name = unicode(class_names[classifier.predict([feature_vector])[0]])\n",
    "            predicted_data.append((sound['id'], class_name, predicted_class_name))     \n",
    "    print 'done!'\n",
    "\n",
    "    # Compute overall accuracy\n",
    "    good_predictions = len([1 for sid, cname, pname in predicted_data if cname == pname])\n",
    "    wrong_predictions = len([1 for sid, cname, pname in predicted_data if cname != pname])\n",
    "    print '%i correct predictions' % good_predictions\n",
    "    print '%i wrong predictions' % wrong_predictions\n",
    "    accuracy = float(good_predictions)/(good_predictions + wrong_predictions)\n",
    "    print 'Overall accuracy %.2f%%' % (100 * accuracy)\n",
    "    \n",
    "    if show_confussing_matrix:\n",
    "        # Compute confussion matrix (further analysis)\n",
    "        matrix = list()\n",
    "        for class_name in CLASS_NAMES:\n",
    "            predicted_classes = list()\n",
    "            for sid, cname, pname in predicted_data:\n",
    "                if cname == class_name:\n",
    "                    predicted_classes.append(pname)\n",
    "            matrix.append([predicted_classes.count(target_class) for target_class in CLASS_NAMES])\n",
    "\n",
    "        # Plot confussion matrix\n",
    "        fig = plt.figure()\n",
    "        plt.clf()\n",
    "        ax = fig.add_subplot(111)\n",
    "        ax.set_aspect(1)\n",
    "        res = ax.imshow(matrix, cmap=plt.cm.Blues, interpolation='nearest')\n",
    "\n",
    "        for x in xrange(len(matrix)):\n",
    "            for y in xrange(len(matrix)):\n",
    "                ax.annotate(str(matrix[x][y]), xy=(y, x), \n",
    "                            horizontalalignment='center',\n",
    "                            verticalalignment='center')\n",
    "\n",
    "        plt.xticks(range(len(class_names)), class_names)\n",
    "        plt.yticks(range(len(class_names)), class_names)\n",
    "        plt.xlabel('Predicted classes')\n",
    "        plt.ylabel('Groundtruth classes')\n",
    "\n",
    "        print 'Confussion matrix'\n",
    "        plt.show()\n",
    "    \n",
    "    return accuracy\n",
    "    \n",
    "evaluate_classifier(\n",
    "    testing_set=testing_set,\n",
    "    classifier=classifier,\n",
    "    class_names=CLASS_NAMES,\n",
    "    feature_vector_func=build_tag_feature_vector,\n",
    ")"
   ]
  },
  {
   "cell_type": "code",
   "execution_count": 10,
   "metadata": {
    "collapsed": false,
    "deletable": true,
    "editable": true,
    "scrolled": false
   },
   "outputs": [
    {
     "data": {
      "text/html": [
       "<h2>With SVM classifier</h2>"
      ],
      "text/plain": [
       "<IPython.core.display.HTML object>"
      ]
     },
     "metadata": {},
     "output_type": "display_data"
    },
    {
     "name": "stdout",
     "output_type": "stream",
     "text": [
      "Created prototype feature vector with 10 dimensions (originally 777 dimensions)\n",
      "Prototype vector tags (sorted by occurrence in filtered_tags): guitar, electric, acoustic, distorted, chord, distortion, Guitar, rock, loop, riff \n",
      "\n",
      "Created training and testing sets with the following number of sounds:\n",
      "\tTrain\tTest\n",
      "\t75\t25\tDistorted Guitar\n",
      "\t75\t25\tElectric Guitar\n",
      "\t75\t25\tAcoustic Guitar\n",
      "Training classifier (tree) with 225 sounds... \n",
      "Evaluating with 75 instances... done!\n",
      "41 correct predictions\n",
      "34 wrong predictions\n",
      "Overall accuracy 54.67%\n",
      "Confussion matrix\n"
     ]
    },
    {
     "data": {
      "image/png": "[encoded data removed]",
      "text/plain": [
       "<matplotlib.figure.Figure at 0x7f8aab79fa10>"
      ]
     },
     "metadata": {},
     "output_type": "display_data"
    },
    {
     "data": {
      "text/html": [
       "<h2>With TREE classifier</h2>"
      ],
      "text/plain": [
       "<IPython.core.display.HTML object>"
      ]
     },
     "metadata": {},
     "output_type": "display_data"
    },
    {
     "name": "stdout",
     "output_type": "stream",
     "text": [
      "Created prototype feature vector with 10 dimensions (originally 683 dimensions)\n",
      "Prototype vector tags (sorted by occurrence in filtered_tags): guitar, electric, acoustic, distorted, chord, Guitar, rock, distortion, loop, riff \n",
      "\n",
      "Created training and testing sets with the following number of sounds:\n",
      "\tTrain\tTest\n",
      "\t75\t25\tDistorted Guitar\n",
      "\t75\t25\tElectric Guitar\n",
      "\t75\t25\tAcoustic Guitar\n",
      "Training classifier (tree) with 225 sounds... \n",
      "Evaluating with 75 instances... done!\n",
      "36 correct predictions\n",
      "39 wrong predictions\n",
      "Overall accuracy 48.00%\n",
      "Confussion matrix\n"
     ]
    },
    {
     "data": {
      "image/png": "[encoded data removed]",
      "text/plain": [
       "<matplotlib.figure.Figure at 0x7f8a84c6d9d0>"
      ]
     },
     "metadata": {},
     "output_type": "display_data"
    }
   ],
   "source": [
    "# Run the whole experiment again with other parameters\n",
    "\n",
    "NUMBER_OF_DIMENSIONS_OF_FEATURE_VECTOR = 10\n",
    "PERCENTAGE_OF_TRAINING_DATA = 0.75\n",
    "MAX_INPUT_TAGS_FOR_TESTING = 2\n",
    "\n",
    "for classifier_type in ['svm', 'tree']:  \n",
    "    display(HTML('<h2>With %s classifier</h2>' % classifier_type.upper()))\n",
    "\n",
    "    prototype_feature_vector = build_tag_vector_space(\n",
    "        n_dimensions=NUMBER_OF_DIMENSIONS_OF_FEATURE_VECTOR,\n",
    "        dataset=dataset,\n",
    "        class_names=CLASS_NAMES,\n",
    "    )\n",
    "    training_set, testing_set = create_train_and_test_sets(\n",
    "        dataset=dataset, \n",
    "        class_names=CLASS_NAMES,\n",
    "        n_sounds_per_class=N,\n",
    "        percentage_training_data=PERCENTAGE_OF_TRAINING_DATA,\n",
    "        max_input_tags_for_testing=MAX_INPUT_TAGS_FOR_TESTING,   \n",
    "    )\n",
    "    classifier = train_classifier(\n",
    "        training_set=training_set,\n",
    "        classifier_type=classifier_type, \n",
    "        class_names=CLASS_NAMES, \n",
    "        dataset_name=DATASET_NAME,\n",
    "        feature_vector_func=build_tag_feature_vector,\n",
    "        feature_vector_dimension_labels=prototype_feature_vector,\n",
    "    )\n",
    "    evaluate_classifier(\n",
    "        testing_set=testing_set,\n",
    "        classifier=classifier,\n",
    "        class_names=CLASS_NAMES,\n",
    "        feature_vector_func=build_tag_feature_vector,\n",
    "    )"
   ]
  },
  {
   "cell_type": "code",
   "execution_count": 11,
   "metadata": {
    "collapsed": false,
    "deletable": true,
    "editable": true,
    "scrolled": true
   },
   "outputs": [],
   "source": [
    "# CODE FOR GENERATING FEATURE VECTORS WITH LATENT SEMANTIC ANALYSIS\n",
    "\n",
    "def build_latent_semantic_analysis_feature_vectors(n_dimensions, training_set, testing_set):\n",
    "    # Build latent semantic analysis (LSA) matrix factors\n",
    "    vectorizer = TfidfVectorizer(\n",
    "        sublinear_tf=True, max_df=0.5, stop_words='english', analyzer='word', max_features=50000)\n",
    "    svd = TruncatedSVD(n_components=n_dimensions, n_iter=7, random_state=42)\n",
    "\n",
    "    # Compute LSA feature vectors for training set\n",
    "    lsa_feature_vectors = list()\n",
    "    lsa_feature_vectors_sound_ids = list()\n",
    "    for class_name, sounds in training_set.items():\n",
    "        for sound in sounds:\n",
    "            lsa_feature_vectors.append(' '.join(sound['tags']))\n",
    "            lsa_feature_vectors_sound_ids.append(sound['id'])\n",
    "    X = vectorizer.fit_transform(lsa_feature_vectors)\n",
    "    lsa_feature_vectors = svd.fit_transform(X)\n",
    "    lsa_feature_vectors_dict = {sound_id:features for sound_id, features \n",
    "                                in zip(lsa_feature_vectors_sound_ids, lsa_feature_vectors)}\n",
    "\n",
    "    # Now compute LSA feature vectors for testing set (using vectorizer and svd learnt for training set)\n",
    "    lsa_feature_vectors = list()\n",
    "    lsa_feature_vectors_sound_ids = list()\n",
    "    for class_name, sounds in testing_set.items():\n",
    "        for sound in sounds:\n",
    "            lsa_feature_vectors.append(' '.join(sound['tags']))\n",
    "            lsa_feature_vectors_sound_ids.append(sound['id'])\n",
    "    X = vectorizer.transform(lsa_feature_vectors)\n",
    "    lsa_feature_vectors = svd.transform(X)\n",
    "    lsa_feature_vectors_dict.update({sound_id:features for sound_id, features \n",
    "                                     in zip(lsa_feature_vectors_sound_ids, lsa_feature_vectors)})\n",
    "\n",
    "    print 'Built LSA feature vectors for %i sounds!' % len(lsa_feature_vectors_dict)\n",
    "    return lsa_feature_vectors_dict"
   ]
  },
  {
   "cell_type": "code",
   "execution_count": 12,
   "metadata": {
    "collapsed": false,
    "deletable": true,
    "editable": true,
    "scrolled": false
   },
   "outputs": [
    {
     "data": {
      "text/html": [
       "<h2>With Latent Semantic Analysis</h2>"
      ],
      "text/plain": [
       "<IPython.core.display.HTML object>"
      ]
     },
     "metadata": {},
     "output_type": "display_data"
    },
    {
     "name": "stdout",
     "output_type": "stream",
     "text": [
      "Built LSA feature vectors for 291 sounds!\n",
      "Created training and testing sets with the following number of sounds:\n",
      "\tTrain\tTest\n",
      "\t75\t25\tDistorted Guitar\n",
      "\t75\t25\tElectric Guitar\n",
      "\t75\t25\tAcoustic Guitar\n",
      "Training classifier (tree) with 225 sounds... \n",
      "Evaluating with 75 instances... done!\n",
      "44 correct predictions\n",
      "31 wrong predictions\n",
      "Overall accuracy 58.67%\n",
      "Confussion matrix\n"
     ]
    },
    {
     "data": {
      "image/png": "[encoded data removed]",
      "text/plain": [
       "<matplotlib.figure.Figure at 0x7f8a84c8d910>"
      ]
     },
     "metadata": {},
     "output_type": "display_data"
    },
    {
     "data": {
      "text/plain": [
       "0.5866666666666667"
      ]
     },
     "execution_count": 12,
     "metadata": {},
     "output_type": "execute_result"
    }
   ],
   "source": [
    "# EXAMPLE EXPERIMENT USING LATENT SEMANTIC ANALYSIS\n",
    "\n",
    "display(HTML('<h2>With Latent Semantic Analysis</h2>'))\n",
    "\n",
    "NUMBER_OF_DIMENSIONS_OF_FEATURE_VECTOR = 10\n",
    "CLASSIFIER_TYPE = 'tree'\n",
    "PERCENTAGE_OF_TRAINING_DATA = 0.75\n",
    "MAX_INPUT_TAGS_FOR_TESTING = 2\n",
    "\n",
    "def build_lsa_feature_vector(sound):\n",
    "    lsa_features = lsa_feature_vectors_dict[sound['id']]\n",
    "    return np.concatenate([[], lsa_features])\n",
    "\n",
    "lsa_feature_vectors_dict = build_latent_semantic_analysis_feature_vectors(\n",
    "    n_dimensions=NUMBER_OF_DIMENSIONS_OF_FEATURE_VECTOR, training_set=training_set, testing_set=testing_set,)\n",
    "\n",
    "training_set, testing_set = create_train_and_test_sets(\n",
    "    dataset=dataset, class_names=CLASS_NAMES, n_sounds_per_class=N, \n",
    "    percentage_training_data=PERCENTAGE_OF_TRAINING_DATA, max_input_tags_for_testing=MAX_INPUT_TAGS_FOR_TESTING)\n",
    "classifier = train_classifier(\n",
    "    training_set=training_set, classifier_type=CLASSIFIER_TYPE, class_names=CLASS_NAMES, dataset_name=DATASET_NAME,\n",
    "    feature_vector_func=build_lsa_feature_vector,\n",
    ")\n",
    "evaluate_classifier(\n",
    "    testing_set=testing_set, classifier=classifier, class_names=CLASS_NAMES, \n",
    "    feature_vector_func=build_lsa_feature_vector)"
   ]
  },
  {
   "cell_type": "code",
   "execution_count": null,
   "metadata": {
    "collapsed": true,
    "deletable": true,
    "editable": true
   },
   "outputs": [],
   "source": []
  }
 ],
 "metadata": {
  "kernelspec": {
   "display_name": "Python 2",
   "language": "python",
   "name": "python2"
  },
  "language_info": {
   "codemirror_mode": {
    "name": "ipython",
    "version": 2
   },
   "file_extension": ".py",
   "mimetype": "text/x-python",
   "name": "python",
   "nbconvert_exporter": "python",
   "pygments_lexer": "ipython2",
   "version": "2.7.12"
  }
 },
 "nbformat": 4,
 "nbformat_minor": 0
}
