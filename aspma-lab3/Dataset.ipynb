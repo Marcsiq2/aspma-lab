{
 "cells": [
  {
   "cell_type": "markdown",
   "metadata": {
    "deletable": true,
    "editable": true
   },
   "source": [
    "# Marc Siquier - Dataset Creation"
   ]
  },
  {
   "cell_type": "code",
   "execution_count": 1,
   "metadata": {
    "collapsed": false,
    "deletable": true,
    "editable": true
   },
   "outputs": [],
   "source": [
    "from freesound import freesound\n",
    "import random\n",
    "import utils\n",
    "from utils.run_entity_linking import spotlight\n",
    "from IPython.core.display import display, HTML\n",
    "\n",
    "# Get the API key from http://www.freesound.org/apiv2/apply/ (you'll need Freesound user account)\n",
    "API_KEY='9GUfpnadafRpnB3v76G7M5x9i7X3tNHtZ2a4FrBb'\n",
    "c = freesound.FreesoundClient()\n",
    "c.set_token(API_KEY,\"token\")"
   ]
  },
  {
   "cell_type": "markdown",
   "metadata": {
    "deletable": true,
    "editable": true
   },
   "source": [
    "### 1) Define a number of audio categories and find audio examples from Freesound for each category"
   ]
  },
  {
   "cell_type": "code",
   "execution_count": 2,
   "metadata": {
    "collapsed": false,
    "deletable": true,
    "editable": true,
    "scrolled": false
   },
   "outputs": [
    {
     "name": "stdout",
     "output_type": "stream",
     "text": [
      "Getting sounds for class Distorted Guitar... 150\n",
      "selected 100 sounds out of 106!\n",
      "Getting sounds for class Electric Guitar... 150\n",
      "selected 100 sounds out of 103!\n",
      "Getting sounds for class Acoustic Guitar... 150\n",
      "selected 100 sounds out of 137!\n"
     ]
    }
   ],
   "source": [
    "# Configure dataset parameters and audio categories\n",
    "DATASET_NAME = 'broad' # Dataset will be saved in a .json file with this name\n",
    "DATASET_CLASSES = {  \n",
    "    # Must be dictionary with structure like {'class name': 'query terms', 'class name 2': 'query terms 2',... }\n",
    "    'Acoustic Guitar': 'acoustic guitar',\n",
    "    'Electric Guitar': 'electric guitar',\n",
    "    'Distorted Guitar' : 'distorted guitar'\n",
    "}\n",
    "N = 100 # Number of sounds per class\n",
    "N_SOUNDS_PER_USER = 3  # Do not get more than 3 sounds per user\n",
    "\n",
    "# Get sound examples from Freesound\n",
    "dataset = dict()\n",
    "for name, target_query in DATASET_CLASSES.items():\n",
    "    print 'Getting sounds for class %s...' % name,\n",
    "    \n",
    "    # Get first page of results\n",
    "    PAGE_SIZE = 150 # Page size for fs requests\n",
    "    N_PAGES = int((N * 1) / PAGE_SIZE)  # Number of pages to retrieve\n",
    "    fields = \"id,tags,description,username\"\n",
    "    results_pager = c.text_search(\n",
    "        query=target_query,\n",
    "        page_size=PAGE_SIZE,\n",
    "        group_by_pack=1,\n",
    "        fields = \"id,tags,description,username,analysis\",\n",
    "        #descriptors = \"lowlevel.mfcc.mean,lowlevel.barkbands.mean\",\n",
    "        )\n",
    "    all_results = results_pager.results\n",
    "\n",
    "    # TIP ON AUDIO FEATURES: you can get also audio features extracted in freesound by passing a 'descriptors' \n",
    "    # parameter in the text_search function and including 'analysis' in the fields list \n",
    "    # (see http://www.freesound.org/docs/api/resources_apiv2.html#response-sound-list):\n",
    "    #\n",
    "    # fields = \"id,tags,description,username,analysis\"\n",
    "    # descriptors = \"lowlevel.spectral_centroid,lowlevel.barkbands.mean\"\n",
    "    #\n",
    "    # e.g.: results_page = c.text_search(query=target_query, ..., fields=fields, descriptors=descriptors)\n",
    "    # ...\n",
    "    \n",
    "    # Get extra pages\n",
    "    for i in range(0, N_PAGES):\n",
    "        if results_pager.count > (i+1) * PAGE_SIZE:\n",
    "            results_pager = results_pager.next_page()\n",
    "            all_results += results_pager.results\n",
    "    print len(all_results)\n",
    "    # Get only N sounds max per user\n",
    "    user_sounds_count = dict()\n",
    "    filtered_results = list()\n",
    "    random.shuffle(all_results)  # Shuffle list of sounds (randomise order)\n",
    "    for result in all_results:\n",
    "        if result[\"username\"] in user_sounds_count:\n",
    "            user_sounds_count[result[\"username\"]] += 1\n",
    "        else:\n",
    "            user_sounds_count[result[\"username\"]] = 1\n",
    "        if user_sounds_count[result[\"username\"]] <= N_SOUNDS_PER_USER:\n",
    "            filtered_results.append(result)\n",
    "\n",
    "    # Randomly select N sounds from al results obtained\n",
    "    if len(filtered_results) >= N:\n",
    "        selected_sounds = random.sample(filtered_results, N)\n",
    "        dataset[name] = selected_sounds\n",
    "        print 'selected %i sounds out of %i!' % (len(selected_sounds), len(filtered_results))\n",
    "    else:\n",
    "        print 'not enough sounds were found for current class (%i sounds found).' % len(filtered_results)\n",
    "\n",
    "    # TIP ON KEYWORD EXTRACTION: we could extract some keywords from the textual descriptions using functions\n",
    "    # provided in ELVIS (see https://github.com/sergiooramas/elvis and run_entity_linking.py file in utils folder)\n",
    "    # You can uncomment the example code below to get keywords for each sound (dataset creation will take longer)\n",
    "    \n",
    "    \n",
    "    for class_name, sounds in dataset.items():\n",
    "        for sound in sounds:\n",
    "            sound_textual_description = sound['description']\n",
    "            results = spotlight(sound_textual_description.split('\\n'))\n",
    "            keywords = list()\n",
    "            for element in results:\n",
    "                for entity in element['entities']:\n",
    "                    keywords.append(entity['label'])\n",
    "            sound['keywords'] = keywords\n",
    "    \n",
    "\n",
    "# Save dataset to file so we can work with it later on\n",
    "utils.save_to_json('%s.json' % DATASET_NAME, dataset)"
   ]
  },
  {
   "cell_type": "markdown",
   "metadata": {
    "deletable": true,
    "editable": true
   },
   "source": [
    "### 2) Explore the dataset (know your data!)"
   ]
  },
  {
   "cell_type": "code",
   "execution_count": 3,
   "metadata": {
    "collapsed": false,
    "deletable": true,
    "editable": true
   },
   "outputs": [
    {
     "name": "stdout",
     "output_type": "stream",
     "text": [
      "Loaded dataet \"broad\" (3 classes, 100 sounds per class)\n"
     ]
    }
   ],
   "source": [
    "# Load dataset from saved file\n",
    "DATASET_NAME = 'broad'\n",
    "dataset = utils.load_from_json('%s.json' % DATASET_NAME)\n",
    "N = len(dataset[dataset.keys()[0]]) # Number of sounds per class\n",
    "print 'Loaded dataet \"%s\" (%i classes, %i sounds per class)' % (DATASET_NAME, len(dataset.keys()), N)"
   ]
  },
  {
   "cell_type": "code",
   "execution_count": 4,
   "metadata": {
    "collapsed": false,
    "deletable": true,
    "editable": true,
    "scrolled": false
   },
   "outputs": [
    {
     "data": {
      "text/html": [
       "<h3>Distorted Guitar</h3><h4>Example sounds:</h4><iframe frameborder=\"0\" scrolling=\"no\" src=\"http://www.freesound.org/embed/sound/iframe/17863/simple/medium/\" width=\"481\" height=\"86\"></iframe><iframe frameborder=\"0\" scrolling=\"no\" src=\"http://www.freesound.org/embed/sound/iframe/342991/simple/medium/\" width=\"481\" height=\"86\"></iframe><iframe frameborder=\"0\" scrolling=\"no\" src=\"http://www.freesound.org/embed/sound/iframe/218500/simple/medium/\" width=\"481\" height=\"86\"></iframe><iframe frameborder=\"0\" scrolling=\"no\" src=\"http://www.freesound.org/embed/sound/iframe/320622/simple/medium/\" width=\"481\" height=\"86\"></iframe><iframe frameborder=\"0\" scrolling=\"no\" src=\"http://www.freesound.org/embed/sound/iframe/369018/simple/medium/\" width=\"481\" height=\"86\"></iframe><iframe frameborder=\"0\" scrolling=\"no\" src=\"http://www.freesound.org/embed/sound/iframe/192323/simple/medium/\" width=\"481\" height=\"86\"></iframe><h4>Most commons tags tagcloud:</h4><span style=\"font-size:10px;margin-right:10px;\">reese</span> <span style=\"font-size:10px;margin-right:10px;\">beat</span> <span style=\"font-size:10px;margin-right:10px;\">mangled</span> <span style=\"font-size:10px;margin-right:10px;\">overdriven</span> <span style=\"font-size:10px;margin-right:10px;\">harmonics</span> <span style=\"font-size:10px;margin-right:10px;\">Noise</span> <span style=\"font-size:10px;margin-right:10px;\">n</span> <span style=\"font-size:10px;margin-right:10px;\">slide</span> <span style=\"font-size:10px;margin-right:10px;\">loops</span> <span style=\"font-size:10px;margin-right:10px;\">grit</span> <span style=\"font-size:10px;margin-right:10px;\">music</span> <span style=\"font-size:10px;margin-right:10px;\">kick</span> <span style=\"font-size:41px;margin-right:10px;\">guitar</span> <span style=\"font-size:10px;margin-right:10px;\">reverb</span> <span style=\"font-size:12px;margin-right:10px;\">chord</span> <span style=\"font-size:10px;margin-right:10px;\">Riff</span> <span style=\"font-size:10px;margin-right:10px;\">mosh-pit</span> <span style=\"font-size:10px;margin-right:10px;\">melodic</span> <span style=\"font-size:10px;margin-right:10px;\">drums</span> <span style=\"font-size:10px;margin-right:10px;\">remix</span> <span style=\"font-size:10px;margin-right:10px;\">guitar-chords</span> <span style=\"font-size:10px;margin-right:10px;\">heavy-metal</span> <span style=\"font-size:10px;margin-right:10px;\">muted</span> <span style=\"font-size:10px;margin-right:10px;\">power-chord</span> <span style=\"font-size:10px;margin-right:10px;\">drumloop</span> <span style=\"font-size:10px;margin-right:10px;\">death</span> <span style=\"font-size:10px;margin-right:10px;\">processed</span> <span style=\"font-size:10px;margin-right:10px;\">electro</span> <span style=\"font-size:50px;margin-right:10px;\">distorted</span> <span style=\"font-size:10px;margin-right:10px;\">soundtrack</span> <span style=\"font-size:10px;margin-right:10px;\">Loop</span> <span style=\"font-size:17px;margin-right:10px;\">electric</span> <span style=\"font-size:20px;margin-right:10px;\">distortion</span> <span style=\"font-size:10px;margin-right:10px;\">Harmonics</span> <span style=\"font-size:10px;margin-right:10px;\">virus</span> <span style=\"font-size:10px;margin-right:10px;\">distort</span> <span style=\"font-size:12px;margin-right:10px;\">overdrive</span> <span style=\"font-size:10px;margin-right:10px;\">thrash</span> <span style=\"font-size:10px;margin-right:10px;\">percussion</span> <span style=\"font-size:10px;margin-right:10px;\">drone</span> <span style=\"font-size:10px;margin-right:10px;\">hardcore</span> <span style=\"font-size:11px;margin-right:10px;\">metal</span> <span style=\"font-size:10px;margin-right:10px;\">clip</span> <span style=\"font-size:10px;margin-right:10px;\">fuzz</span> <span style=\"font-size:10px;margin-right:10px;\">solo</span> <span style=\"font-size:10px;margin-right:10px;\">Key</span> <span style=\"font-size:10px;margin-right:10px;\">feedback</span> <span style=\"font-size:10px;margin-right:10px;\">melody</span> <span style=\"font-size:10px;margin-right:10px;\">action</span> <span style=\"font-size:12px;margin-right:10px;\">Distorted</span> <span style=\"font-size:10px;margin-right:10px;\">bpm</span> <span style=\"font-size:10px;margin-right:10px;\">riff</span> <span style=\"font-size:10px;margin-right:10px;\">slash</span> <span style=\"font-size:10px;margin-right:10px;\">bass</span> <span style=\"font-size:10px;margin-right:10px;\">power</span> <span style=\"font-size:10px;margin-right:10px;\">drum</span> <span style=\"font-size:10px;margin-right:10px;\">hoover</span> <span style=\"font-size:10px;margin-right:10px;\">noise</span> <span style=\"font-size:10px;margin-right:10px;\">delay</span> <span style=\"font-size:10px;margin-right:10px;\">rhythmic</span> <span style=\"font-size:10px;margin-right:10px;\">lead-guitar</span> <span style=\"font-size:10px;margin-right:10px;\">string</span> <span style=\"font-size:10px;margin-right:10px;\">Metal</span> <span style=\"font-size:10px;margin-right:10px;\">effect</span> <span style=\"font-size:10px;margin-right:10px;\">looped</span> <span style=\"font-size:12px;margin-right:10px;\">loop</span> <span style=\"font-size:15px;margin-right:10px;\">rock</span> <span style=\"font-size:10px;margin-right:10px;\">120bpm</span> <span style=\"font-size:10px;margin-right:10px;\">synth</span> <span style=\"font-size:10px;margin-right:10px;\">heavy</span> <span style=\"font-size:10px;margin-right:10px;\">resonant</span> <span style=\"font-size:10px;margin-right:10px;\">blues</span> <span style=\"font-size:10px;margin-right:10px;\">rhythm</span> <span style=\"font-size:10px;margin-right:10px;\">wild</span> <span style=\"font-size:10px;margin-right:10px;\">ambient</span> <span style=\"font-size:10px;margin-right:10px;\">zagi2</span> <span style=\"font-size:10px;margin-right:10px;\">gabber</span> <span style=\"font-size:10px;margin-right:10px;\">Rock</span> <span style=\"font-size:10px;margin-right:10px;\">Electric-Guitar</span> <span style=\"font-size:10px;margin-right:10px;\">loud</span> <span style=\"font-size:10px;margin-right:10px;\">rhythm-guitar</span> <span style=\"font-size:10px;margin-right:10px;\">intro</span> <span style=\"font-size:10px;margin-right:10px;\">electronic</span> <span style=\"font-size:10px;margin-right:10px;\">chords</span> <span style=\"font-size:10px;margin-right:10px;\">dark</span> <span style=\"font-size:10px;margin-right:10px;\">Harmonic</span> <span style=\"font-size:10px;margin-right:10px;\">electric-guitar</span> <span style=\"font-size:10px;margin-right:10px;\">lick</span> <span style=\"font-size:10px;margin-right:10px;\">fx</span> <span style=\"font-size:10px;margin-right:10px;\">lead</span> <span style=\"font-size:10px;margin-right:10px;\">access-virus</span> <span style=\"font-size:10px;margin-right:10px;\">distorted-guitar</span> <span style=\"font-size:10px;margin-right:10px;\">amp</span> <span style=\"font-size:10px;margin-right:10px;\">indie</span> <span style=\"font-size:12px;margin-right:10px;\">Guitar</span> <span style=\"font-size:10px;margin-right:10px;\">experimental</span> <span style=\"font-size:10px;margin-right:10px;\">hard</span> <span style=\"font-size:10px;margin-right:10px;\">sound</span> <span style=\"font-size:10px;margin-right:10px;\">pareidolia</span> <span style=\"font-size:10px;margin-right:10px;\">echo</span> <h4>Most commons keywords tagcloud:</h4><span style=\"font-size:12px;margin-right:10px;\">guitar chord</span> <span style=\"font-size:24px;margin-right:10px;\">distortion</span> <span style=\"font-size:10px;margin-right:10px;\">Effects</span> <span style=\"font-size:10px;margin-right:10px;\">Hardstyle</span> <span style=\"font-size:10px;margin-right:10px;\">Gabber</span> <span style=\"font-size:10px;margin-right:10px;\">Boss</span> <span style=\"font-size:10px;margin-right:10px;\">chord</span> <span style=\"font-size:10px;margin-right:10px;\">overdrive</span> <span style=\"font-size:10px;margin-right:10px;\">drums</span> <span style=\"font-size:10px;margin-right:10px;\">microphone</span> <span style=\"font-size:10px;margin-right:10px;\">reverb</span> <span style=\"font-size:15px;margin-right:10px;\">riff</span> <span style=\"font-size:10px;margin-right:10px;\">drum</span> <span style=\"font-size:21px;margin-right:10px;\">Guitar</span> <span style=\"font-size:10px;margin-right:10px;\">rock</span> <span style=\"font-size:12px;margin-right:10px;\">playing</span> <span style=\"font-size:13px;margin-right:10px;\">kicks</span> <span style=\"font-size:10px;margin-right:10px;\">Cubase</span> <span style=\"font-size:24px;margin-right:10px;\">loop</span> <span style=\"font-size:10px;margin-right:10px;\">tascam</span> <span style=\"font-size:10px;margin-right:10px;\">style</span> <span style=\"font-size:26px;margin-right:10px;\">distorted</span> <span style=\"font-size:26px;margin-right:10px;\">sound</span> <span style=\"font-size:10px;margin-right:10px;\">signal</span> <span style=\"font-size:10px;margin-right:10px;\">Amp</span> <span style=\"font-size:15px;margin-right:10px;\">This</span> <span style=\"font-size:10px;margin-right:10px;\">guitar amp</span> <span style=\"font-size:10px;margin-right:10px;\">share</span> <span style=\"font-size:10px;margin-right:10px;\">electric guitar</span> <span style=\"font-size:10px;margin-right:10px;\">bpm</span> <span style=\"font-size:13px;margin-right:10px;\">string</span> <span style=\"font-size:14px;margin-right:10px;\">Logic Pro</span> <span style=\"font-size:10px;margin-right:10px;\">acoustic guitar</span> <span style=\"font-size:18px;margin-right:10px;\">href</span> <span style=\"font-size:23px;margin-right:10px;\">recorded</span> <span style=\"font-size:10px;margin-right:10px;\">raw</span> <span style=\"font-size:10px;margin-right:10px;\">delay</span> <span style=\"font-size:10px;margin-right:10px;\">Edition</span> <span style=\"font-size:10px;margin-right:10px;\">unit</span> <span style=\"font-size:10px;margin-right:10px;\">An</span> <span style=\"font-size:10px;margin-right:10px;\">bit</span> <span style=\"font-size:10px;margin-right:10px;\">computer</span> <span style=\"font-size:10px;margin-right:10px;\">created</span> <span style=\"font-size:10px;margin-right:10px;\">My</span> <span style=\"font-size:13px;margin-right:10px;\">sample</span> <span style=\"font-size:18px;margin-right:10px;\">rel=\"nofollow\"</span> <span style=\"font-size:10px;margin-right:10px;\">level</span> <span style=\"font-size:10px;margin-right:10px;\">pitch</span> <span style=\"font-size:10px;margin-right:10px;\">nice</span> <span style=\"font-size:10px;margin-right:10px;\">song</span> <span style=\"font-size:10px;margin-right:10px;\">keyboard</span> <span style=\"font-size:10px;margin-right:10px;\">simple</span> <span style=\"font-size:10px;margin-right:10px;\">hard dance</span> <span style=\"font-size:10px;margin-right:10px;\">processed</span> <span style=\"font-size:20px;margin-right:10px;\">Recorded</span> <span style=\"font-size:12px;margin-right:10px;\">Modelling</span> <span style=\"font-size:10px;margin-right:10px;\">Sound</span> <span style=\"font-size:10px;margin-right:10px;\">looped</span> <span style=\"font-size:26px;margin-right:10px;\">http</span> <span style=\"font-size:15px;margin-right:10px;\">Distorted</span> <span style=\"font-size:10px;margin-right:10px;\">Ibanez</span> <span style=\"font-size:10px;margin-right:10px;\">links</span> <span style=\"font-size:10px;margin-right:10px;\">Here</span> <span style=\"font-size:10px;margin-right:10px;\">Electro-Harmonix</span> <span style=\"font-size:10px;margin-right:10px;\">fret</span> <span style=\"font-size:10px;margin-right:10px;\">short</span> <span style=\"font-size:10px;margin-right:10px;\">access virus</span> <span style=\"font-size:50px;margin-right:10px;\">guitar</span> <span style=\"font-size:10px;margin-right:10px;\">high</span> <span style=\"font-size:10px;margin-right:10px;\">https</span> <span style=\"font-size:10px;margin-right:10px;\">plugins</span> <span style=\"font-size:10px;margin-right:10px;\">amp</span> <span style=\"font-size:22px;margin-right:10px;\">sounds</span> <span style=\"font-size:10px;margin-right:10px;\">dedicated</span> <span style=\"font-size:10px;margin-right:10px;\">The</span> <span style=\"font-size:10px;margin-right:10px;\">Enjoy</span> <span style=\"font-size:10px;margin-right:10px;\">4-</span> <span style=\"font-size:10px;margin-right:10px;\">played</span> <span style=\"font-size:10px;margin-right:10px;\">July</span> <span style=\"font-size:10px;margin-right:10px;\">strings</span> <span style=\"font-size:10px;margin-right:10px;\">noise</span> <span style=\"font-size:12px;margin-right:10px;\">bass</span> <span style=\"font-size:10px;margin-right:10px;\">live</span> <span style=\"font-size:10px;margin-right:10px;\">wave</span> <span style=\"font-size:10px;margin-right:10px;\">remix</span> <span style=\"font-size:10px;margin-right:10px;\">Orange</span> <span style=\"font-size:10px;margin-right:10px;\">Made</span> <span style=\"font-size:10px;margin-right:10px;\">M-Audio</span> <span style=\"font-size:10px;margin-right:10px;\">de</span> <span style=\"font-size:10px;margin-right:10px;\">BPM</span> <span style=\"font-size:10px;margin-right:10px;\">lot</span> <span style=\"font-size:10px;margin-right:10px;\">amplifier</span> <span style=\"font-size:10px;margin-right:10px;\">Series</span> <span style=\"font-size:10px;margin-right:10px;\">EQ</span> <span style=\"font-size:10px;margin-right:10px;\">crunchy</span> <span style=\"font-size:10px;margin-right:10px;\">Check</span> <span style=\"font-size:10px;margin-right:10px;\">All</span> <span style=\"font-size:10px;margin-right:10px;\">Riff</span> <span style=\"font-size:10px;margin-right:10px;\">stuff</span> <span style=\"font-size:10px;margin-right:10px;\">FX</span> <br>"
      ],
      "text/plain": [
       "<IPython.core.display.HTML object>"
      ]
     },
     "metadata": {},
     "output_type": "display_data"
    },
    {
     "data": {
      "text/html": [
       "<h3>Electric Guitar</h3><h4>Example sounds:</h4><iframe frameborder=\"0\" scrolling=\"no\" src=\"http://www.freesound.org/embed/sound/iframe/324062/simple/medium/\" width=\"481\" height=\"86\"></iframe><iframe frameborder=\"0\" scrolling=\"no\" src=\"http://www.freesound.org/embed/sound/iframe/34327/simple/medium/\" width=\"481\" height=\"86\"></iframe><iframe frameborder=\"0\" scrolling=\"no\" src=\"http://www.freesound.org/embed/sound/iframe/133997/simple/medium/\" width=\"481\" height=\"86\"></iframe><iframe frameborder=\"0\" scrolling=\"no\" src=\"http://www.freesound.org/embed/sound/iframe/106389/simple/medium/\" width=\"481\" height=\"86\"></iframe><iframe frameborder=\"0\" scrolling=\"no\" src=\"http://www.freesound.org/embed/sound/iframe/177041/simple/medium/\" width=\"481\" height=\"86\"></iframe><iframe frameborder=\"0\" scrolling=\"no\" src=\"http://www.freesound.org/embed/sound/iframe/376732/simple/medium/\" width=\"481\" height=\"86\"></iframe><h4>Most commons tags tagcloud:</h4><span style=\"font-size:10px;margin-right:10px;\">note</span> <span style=\"font-size:10px;margin-right:10px;\">effect</span> <span style=\"font-size:10px;margin-right:10px;\">instrument</span> <span style=\"font-size:10px;margin-right:10px;\">115bpm</span> <span style=\"font-size:10px;margin-right:10px;\">loud</span> <span style=\"font-size:10px;margin-right:10px;\">A</span> <span style=\"font-size:12px;margin-right:10px;\">Electric</span> <span style=\"font-size:10px;margin-right:10px;\">pan</span> <span style=\"font-size:10px;margin-right:10px;\">power</span> <span style=\"font-size:10px;margin-right:10px;\">reverb</span> <span style=\"font-size:10px;margin-right:10px;\">fuzz</span> <span style=\"font-size:10px;margin-right:10px;\">stereo</span> <span style=\"font-size:10px;margin-right:10px;\">processed</span> <span style=\"font-size:10px;margin-right:10px;\">outer</span> <span style=\"font-size:10px;margin-right:10px;\">beat</span> <span style=\"font-size:10px;margin-right:10px;\">Drum</span> <span style=\"font-size:10px;margin-right:10px;\">loop</span> <span style=\"font-size:10px;margin-right:10px;\">solo</span> <span style=\"font-size:10px;margin-right:10px;\">blues</span> <span style=\"font-size:10px;margin-right:10px;\">chords</span> <span style=\"font-size:10px;margin-right:10px;\">ambient</span> <span style=\"font-size:10px;margin-right:10px;\">overdrive</span> <span style=\"font-size:10px;margin-right:10px;\">Electric-Guitar</span> <span style=\"font-size:10px;margin-right:10px;\">4x4-Records</span> <span style=\"font-size:10px;margin-right:10px;\">a-string</span> <span style=\"font-size:10px;margin-right:10px;\">experimental</span> <span style=\"font-size:10px;margin-right:10px;\">bowed</span> <span style=\"font-size:10px;margin-right:10px;\">hendrix</span> <span style=\"font-size:10px;margin-right:10px;\">sample</span> <span style=\"font-size:10px;margin-right:10px;\">delay</span> <span style=\"font-size:10px;margin-right:10px;\">distorsion</span> <span style=\"font-size:10px;margin-right:10px;\">dist</span> <span style=\"font-size:10px;margin-right:10px;\">string</span> <span style=\"font-size:10px;margin-right:10px;\">stretch</span> <span style=\"font-size:10px;margin-right:10px;\">palm-mute</span> <span style=\"font-size:10px;margin-right:10px;\">psychedelic</span> <span style=\"font-size:13px;margin-right:10px;\">chord</span> <span style=\"font-size:10px;margin-right:10px;\">Lead</span> <span style=\"font-size:10px;margin-right:10px;\">c</span> <span style=\"font-size:10px;margin-right:10px;\">time</span> <span style=\"font-size:10px;margin-right:10px;\">Clean</span> <span style=\"font-size:10px;margin-right:10px;\">EDM</span> <span style=\"font-size:10px;margin-right:10px;\">Loop</span> <span style=\"font-size:10px;margin-right:10px;\">simple</span> <span style=\"font-size:10px;margin-right:10px;\">electric-guitar</span> <span style=\"font-size:10px;margin-right:10px;\">bending</span> <span style=\"font-size:10px;margin-right:10px;\">drums</span> <span style=\"font-size:10px;margin-right:10px;\">distorted</span> <span style=\"font-size:10px;margin-right:10px;\">funk</span> <span style=\"font-size:10px;margin-right:10px;\">clean</span> <span style=\"font-size:10px;margin-right:10px;\">Power</span> <span style=\"font-size:10px;margin-right:10px;\">soundscape</span> <span style=\"font-size:10px;margin-right:10px;\">heavy</span> <span style=\"font-size:10px;margin-right:10px;\">lick</span> <span style=\"font-size:10px;margin-right:10px;\">riff</span> <span style=\"font-size:10px;margin-right:10px;\">e</span> <span style=\"font-size:10px;margin-right:10px;\">amplifier</span> <span style=\"font-size:10px;margin-right:10px;\">Bass</span> <span style=\"font-size:10px;margin-right:10px;\">echo</span> <span style=\"font-size:10px;margin-right:10px;\">fender</span> <span style=\"font-size:10px;margin-right:10px;\">spacey</span> <span style=\"font-size:10px;margin-right:10px;\">D</span> <span style=\"font-size:10px;margin-right:10px;\">Funk</span> <span style=\"font-size:10px;margin-right:10px;\">acoustic</span> <span style=\"font-size:10px;margin-right:10px;\">Snare</span> <span style=\"font-size:10px;margin-right:10px;\">90Bpm</span> <span style=\"font-size:10px;margin-right:10px;\">wah</span> <span style=\"font-size:48px;margin-right:10px;\">electric</span> <span style=\"font-size:10px;margin-right:10px;\">distortion</span> <span style=\"font-size:10px;margin-right:10px;\">Drums</span> <span style=\"font-size:11px;margin-right:10px;\">rock</span> <span style=\"font-size:10px;margin-right:10px;\">cool</span> <span style=\"font-size:10px;margin-right:10px;\">dilation</span> <span style=\"font-size:10px;margin-right:10px;\">rhythmic</span> <span style=\"font-size:10px;margin-right:10px;\">Stab</span> <span style=\"font-size:11px;margin-right:10px;\">Guitar</span> <span style=\"font-size:10px;margin-right:10px;\">strum</span> <span style=\"font-size:10px;margin-right:10px;\">metal</span> <span style=\"font-size:10px;margin-right:10px;\">Music</span> <span style=\"font-size:10px;margin-right:10px;\">Kick</span> <span style=\"font-size:10px;margin-right:10px;\">power-chord</span> <span style=\"font-size:10px;margin-right:10px;\">environmental-sounds-research</span> <span style=\"font-size:10px;margin-right:10px;\">sci-fi</span> <span style=\"font-size:10px;margin-right:10px;\">Sample</span> <span style=\"font-size:10px;margin-right:10px;\">phrase</span> <span style=\"font-size:10px;margin-right:10px;\">treble</span> <span style=\"font-size:10px;margin-right:10px;\">slow</span> <span style=\"font-size:10px;margin-right:10px;\">space</span> <span style=\"font-size:10px;margin-right:10px;\">amp</span> <span style=\"font-size:10px;margin-right:10px;\">Acoustic</span> <span style=\"font-size:10px;margin-right:10px;\">noise</span> <span style=\"font-size:10px;margin-right:10px;\">atmosphere</span> <span style=\"font-size:10px;margin-right:10px;\">bass</span> <span style=\"font-size:10px;margin-right:10px;\">bow</span> <span style=\"font-size:10px;margin-right:10px;\">Instrument</span> <span style=\"font-size:10px;margin-right:10px;\">sound</span> <span style=\"font-size:10px;margin-right:10px;\">bpm</span> <span style=\"font-size:50px;margin-right:10px;\">guitar</span> <span style=\"font-size:10px;margin-right:10px;\">music</span> <span style=\"font-size:10px;margin-right:10px;\">feedback</span> <h4>Most commons keywords tagcloud:</h4><span style=\"font-size:16px;margin-right:10px;\">Electric guitar</span> <span style=\"font-size:10px;margin-right:10px;\">Two</span> <span style=\"font-size:10px;margin-right:10px;\">It</span> <span style=\"font-size:10px;margin-right:10px;\">muted</span> <span style=\"font-size:10px;margin-right:10px;\">amp</span> <span style=\"font-size:10px;margin-right:10px;\">disk</span> <span style=\"font-size:10px;margin-right:10px;\">Distorted</span> <span style=\"font-size:10px;margin-right:10px;\">sliding</span> <span style=\"font-size:10px;margin-right:10px;\">style</span> <span style=\"font-size:10px;margin-right:10px;\">overdrive</span> <span style=\"font-size:10px;margin-right:10px;\">Me</span> <span style=\"font-size:10px;margin-right:10px;\">High</span> <span style=\"font-size:10px;margin-right:10px;\">Red</span> <span style=\"font-size:10px;margin-right:10px;\">bit</span> <span style=\"font-size:10px;margin-right:10px;\">/archive</span> <span style=\"font-size:10px;margin-right:10px;\">power chord</span> <span style=\"font-size:10px;margin-right:10px;\">algorithm</span> <span style=\"font-size:21px;margin-right:10px;\">played</span> <span style=\"font-size:10px;margin-right:10px;\">audacity</span> <span style=\"font-size:10px;margin-right:10px;\">Fender</span> <span style=\"font-size:10px;margin-right:10px;\">reversed</span> <span style=\"font-size:10px;margin-right:10px;\">Clean</span> <span style=\"font-size:10px;margin-right:10px;\">music</span> <span style=\"font-size:10px;margin-right:10px;\">The</span> <span style=\"font-size:10px;margin-right:10px;\">sid</span> <span style=\"font-size:10px;margin-right:10px;\">delay</span> <span style=\"font-size:10px;margin-right:10px;\">Zoom</span> <span style=\"font-size:10px;margin-right:10px;\">simple</span> <span style=\"font-size:10px;margin-right:10px;\">These</span> <span style=\"font-size:13px;margin-right:10px;\">sound</span> <span style=\"font-size:10px;margin-right:10px;\">plugged</span> <span style=\"font-size:10px;margin-right:10px;\">samples</span> <span style=\"font-size:10px;margin-right:10px;\">pickups</span> <span style=\"font-size:10px;margin-right:10px;\">http</span> <span style=\"font-size:10px;margin-right:10px;\">lick</span> <span style=\"font-size:10px;margin-right:10px;\">pedal</span> <span style=\"font-size:13px;margin-right:10px;\">Recorded</span> <span style=\"font-size:10px;margin-right:10px;\">Tube</span> <span style=\"font-size:10px;margin-right:10px;\">distortion</span> <span style=\"font-size:10px;margin-right:10px;\">reverb</span> <span style=\"font-size:10px;margin-right:10px;\">Electric Guitar</span> <span style=\"font-size:13px;margin-right:10px;\">Guitar</span> <span style=\"font-size:10px;margin-right:10px;\">noise</span> <span style=\"font-size:10px;margin-right:10px;\">Blue</span> <span style=\"font-size:10px;margin-right:10px;\">Simple</span> <span style=\"font-size:10px;margin-right:10px;\">Boss</span> <span style=\"font-size:10px;margin-right:10px;\">chord</span> <span style=\"font-size:10px;margin-right:10px;\">Orange</span> <span style=\"font-size:10px;margin-right:10px;\">Ibanez</span> <span style=\"font-size:10px;margin-right:10px;\">key</span> <span style=\"font-size:10px;margin-right:10px;\">direct</span> <span style=\"font-size:10px;margin-right:10px;\">link</span> <span style=\"font-size:10px;margin-right:10px;\">projects</span> <span style=\"font-size:10px;margin-right:10px;\">good</span> <span style=\"font-size:10px;margin-right:10px;\">minor</span> <span style=\"font-size:10px;margin-right:10px;\">preamp</span> <span style=\"font-size:10px;margin-right:10px;\">electric</span> <span style=\"font-size:10px;margin-right:10px;\">forget</span> <span style=\"font-size:10px;margin-right:10px;\">loop</span> <span style=\"font-size:10px;margin-right:10px;\">short</span> <span style=\"font-size:10px;margin-right:10px;\">wah</span> <span style=\"font-size:10px;margin-right:10px;\">Pacifica</span> <span style=\"font-size:10px;margin-right:10px;\">processed</span> <span style=\"font-size:10px;margin-right:10px;\">riff</span> <span style=\"font-size:10px;margin-right:10px;\">plugging</span> <span style=\"font-size:10px;margin-right:10px;\">href</span> <span style=\"font-size:10px;margin-right:10px;\">Logic Pro</span> <span style=\"font-size:10px;margin-right:10px;\">clean</span> <span style=\"font-size:10px;margin-right:10px;\">la</span> <span style=\"font-size:10px;margin-right:10px;\">Hendrix</span> <span style=\"font-size:10px;margin-right:10px;\">heavy metal</span> <span style=\"font-size:10px;margin-right:10px;\">created</span> <span style=\"font-size:10px;margin-right:10px;\">computer</span> <span style=\"font-size:10px;margin-right:10px;\">tremolo</span> <span style=\"font-size:10px;margin-right:10px;\">Amp</span> <span style=\"font-size:10px;margin-right:10px;\">This</span> <span style=\"font-size:10px;margin-right:10px;\">looped</span> <span style=\"font-size:10px;margin-right:10px;\">acoustic</span> <span style=\"font-size:12px;margin-right:10px;\">playing</span> <span style=\"font-size:10px;margin-right:10px;\">guitar chord</span> <span style=\"font-size:10px;margin-right:10px;\">strummed</span> <span style=\"font-size:10px;margin-right:10px;\">single</span> <span style=\"font-size:10px;margin-right:10px;\">GT</span> <span style=\"font-size:10px;margin-right:10px;\">Modelling</span> <span style=\"font-size:10px;margin-right:10px;\">sample</span> <span style=\"font-size:10px;margin-right:10px;\">lace</span> <span style=\"font-size:24px;margin-right:10px;\">guitar</span> <span style=\"font-size:10px;margin-right:10px;\">Short</span> <span style=\"font-size:10px;margin-right:10px;\">BOSS</span> <span style=\"font-size:10px;margin-right:10px;\">amplifier</span> <span style=\"font-size:10px;margin-right:10px;\">strings</span> <span style=\"font-size:50px;margin-right:10px;\">electric guitar</span> <span style=\"font-size:10px;margin-right:10px;\">Funky</span> <span style=\"font-size:10px;margin-right:10px;\">sounds</span> <span style=\"font-size:10px;margin-right:10px;\">distorted</span> <span style=\"font-size:10px;margin-right:10px;\">bpm</span> <span style=\"font-size:10px;margin-right:10px;\">Les Paul</span> <span style=\"font-size:10px;margin-right:10px;\">rel=\"nofollow\"</span> <span style=\"font-size:16px;margin-right:10px;\">recorded</span> <span style=\"font-size:10px;margin-right:10px;\">Electric</span> <br>"
      ],
      "text/plain": [
       "<IPython.core.display.HTML object>"
      ]
     },
     "metadata": {},
     "output_type": "display_data"
    },
    {
     "data": {
      "text/html": [
       "<h3>Acoustic Guitar</h3><h4>Example sounds:</h4><iframe frameborder=\"0\" scrolling=\"no\" src=\"http://www.freesound.org/embed/sound/iframe/234739/simple/medium/\" width=\"481\" height=\"86\"></iframe><iframe frameborder=\"0\" scrolling=\"no\" src=\"http://www.freesound.org/embed/sound/iframe/250147/simple/medium/\" width=\"481\" height=\"86\"></iframe><iframe frameborder=\"0\" scrolling=\"no\" src=\"http://www.freesound.org/embed/sound/iframe/41665/simple/medium/\" width=\"481\" height=\"86\"></iframe><iframe frameborder=\"0\" scrolling=\"no\" src=\"http://www.freesound.org/embed/sound/iframe/76136/simple/medium/\" width=\"481\" height=\"86\"></iframe><iframe frameborder=\"0\" scrolling=\"no\" src=\"http://www.freesound.org/embed/sound/iframe/43356/simple/medium/\" width=\"481\" height=\"86\"></iframe><iframe frameborder=\"0\" scrolling=\"no\" src=\"http://www.freesound.org/embed/sound/iframe/2684/simple/medium/\" width=\"481\" height=\"86\"></iframe><h4>Most commons tags tagcloud:</h4><span style=\"font-size:10px;margin-right:10px;\">quantized</span> <span style=\"font-size:10px;margin-right:10px;\">film</span> <span style=\"font-size:10px;margin-right:10px;\">Drum</span> <span style=\"font-size:10px;margin-right:10px;\">a</span> <span style=\"font-size:10px;margin-right:10px;\">6</span> <span style=\"font-size:10px;margin-right:10px;\">reverb</span> <span style=\"font-size:10px;margin-right:10px;\">dry</span> <span style=\"font-size:10px;margin-right:10px;\">sample-pack</span> <span style=\"font-size:10px;margin-right:10px;\">ambient</span> <span style=\"font-size:10px;margin-right:10px;\">Faux</span> <span style=\"font-size:10px;margin-right:10px;\">pop</span> <span style=\"font-size:10px;margin-right:10px;\">delay</span> <span style=\"font-size:10px;margin-right:10px;\">roland-oetter</span> <span style=\"font-size:10px;margin-right:10px;\">nylon-guitar</span> <span style=\"font-size:10px;margin-right:10px;\">music</span> <span style=\"font-size:10px;margin-right:10px;\">piano</span> <span style=\"font-size:10px;margin-right:10px;\">Funk</span> <span style=\"font-size:10px;margin-right:10px;\">sound</span> <span style=\"font-size:10px;margin-right:10px;\">Loop</span> <span style=\"font-size:10px;margin-right:10px;\">acoustic-guitar</span> <span style=\"font-size:10px;margin-right:10px;\">notes</span> <span style=\"font-size:10px;margin-right:10px;\">Classical</span> <span style=\"font-size:10px;margin-right:10px;\">Music</span> <span style=\"font-size:10px;margin-right:10px;\">Drums</span> <span style=\"font-size:10px;margin-right:10px;\">Acoustic-Guitar</span> <span style=\"font-size:10px;margin-right:10px;\">clean</span> <span style=\"font-size:10px;margin-right:10px;\">Electronic</span> <span style=\"font-size:10px;margin-right:10px;\">instrumental</span> <span style=\"font-size:10px;margin-right:10px;\">sounds</span> <span style=\"font-size:10px;margin-right:10px;\">minor</span> <span style=\"font-size:10px;margin-right:10px;\">atmosphere</span> <span style=\"font-size:10px;margin-right:10px;\">summer</span> <span style=\"font-size:10px;margin-right:10px;\">tap</span> <span style=\"font-size:10px;margin-right:10px;\">flstudio</span> <span style=\"font-size:10px;margin-right:10px;\">Bass</span> <span style=\"font-size:10px;margin-right:10px;\">sample</span> <span style=\"font-size:10px;margin-right:10px;\">steel</span> <span style=\"font-size:10px;margin-right:10px;\">electric</span> <span style=\"font-size:10px;margin-right:10px;\">efx</span> <span style=\"font-size:10px;margin-right:10px;\">Acoustic</span> <span style=\"font-size:10px;margin-right:10px;\">reggae</span> <span style=\"font-size:10px;margin-right:10px;\">chords</span> <span style=\"font-size:10px;margin-right:10px;\">Nylon</span> <span style=\"font-size:10px;margin-right:10px;\">Finger-picking</span> <span style=\"font-size:10px;margin-right:10px;\">Lead</span> <span style=\"font-size:10px;margin-right:10px;\">banjo</span> <span style=\"font-size:10px;margin-right:10px;\">note</span> <span style=\"font-size:10px;margin-right:10px;\">short</span> <span style=\"font-size:10px;margin-right:10px;\">sustain</span> <span style=\"font-size:10px;margin-right:10px;\">noise</span> <span style=\"font-size:10px;margin-right:10px;\">folk-guitar</span> <span style=\"font-size:10px;margin-right:10px;\">musical-instruments</span> <span style=\"font-size:10px;margin-right:10px;\">loop</span> <span style=\"font-size:50px;margin-right:10px;\">guitar</span> <span style=\"font-size:50px;margin-right:10px;\">acoustic</span> <span style=\"font-size:10px;margin-right:10px;\">strings</span> <span style=\"font-size:10px;margin-right:10px;\">strum</span> <span style=\"font-size:10px;margin-right:10px;\">e</span> <span style=\"font-size:10px;margin-right:10px;\">dance</span> <span style=\"font-size:10px;margin-right:10px;\">pluck</span> <span style=\"font-size:10px;margin-right:10px;\">folk</span> <span style=\"font-size:10px;margin-right:10px;\">Electric</span> <span style=\"font-size:10px;margin-right:10px;\">speech</span> <span style=\"font-size:10px;margin-right:10px;\">rock</span> <span style=\"font-size:12px;margin-right:10px;\">chord</span> <span style=\"font-size:10px;margin-right:10px;\">arpeggio</span> <span style=\"font-size:10px;margin-right:10px;\">classical</span> <span style=\"font-size:10px;margin-right:10px;\">picking</span> <span style=\"font-size:10px;margin-right:10px;\">tuning</span> <span style=\"font-size:10px;margin-right:10px;\">String</span> <span style=\"font-size:10px;margin-right:10px;\">twang</span> <span style=\"font-size:10px;margin-right:10px;\">string</span> <span style=\"font-size:10px;margin-right:10px;\">melody</span> <span style=\"font-size:10px;margin-right:10px;\">Scrubs</span> <span style=\"font-size:10px;margin-right:10px;\">Folk</span> <span style=\"font-size:10px;margin-right:10px;\">blues</span> <span style=\"font-size:10px;margin-right:10px;\">Kick</span> <span style=\"font-size:10px;margin-right:10px;\">unprocessed</span> <span style=\"font-size:10px;margin-right:10px;\">Live</span> <span style=\"font-size:10px;margin-right:10px;\">strummed</span> <span style=\"font-size:10px;margin-right:10px;\">rhythm</span> <span style=\"font-size:10px;margin-right:10px;\">strumming</span> <span style=\"font-size:10px;margin-right:10px;\">base</span> <span style=\"font-size:10px;margin-right:10px;\">lsd</span> <span style=\"font-size:10px;margin-right:10px;\">grunge</span> <span style=\"font-size:10px;margin-right:10px;\">original</span> <span style=\"font-size:10px;margin-right:10px;\">recording</span> <span style=\"font-size:10px;margin-right:10px;\">loops</span> <span style=\"font-size:10px;margin-right:10px;\">notification</span> <span style=\"font-size:10px;margin-right:10px;\">beat</span> <span style=\"font-size:10px;margin-right:10px;\">sad</span> <span style=\"font-size:10px;margin-right:10px;\">Guitar</span> <span style=\"font-size:10px;margin-right:10px;\">riff</span> <span style=\"font-size:10px;margin-right:10px;\">nylon</span> <span style=\"font-size:10px;margin-right:10px;\">major</span> <span style=\"font-size:10px;margin-right:10px;\">emotional</span> <span style=\"font-size:10px;margin-right:10px;\">synth</span> <span style=\"font-size:10px;margin-right:10px;\">Snare</span> <span style=\"font-size:10px;margin-right:10px;\">stereo</span> <span style=\"font-size:10px;margin-right:10px;\">slide</span> <h4>Most commons keywords tagcloud:</h4><span style=\"font-size:10px;margin-right:10px;\">Me</span> <span style=\"font-size:10px;margin-right:10px;\">Sounds</span> <span style=\"font-size:10px;margin-right:10px;\">gt</span> <span style=\"font-size:13px;margin-right:10px;\">playing</span> <span style=\"font-size:10px;margin-right:10px;\">recording</span> <span style=\"font-size:10px;margin-right:10px;\">download</span> <span style=\"font-size:10px;margin-right:10px;\">Logic Pro</span> <span style=\"font-size:11px;margin-right:10px;\">chords</span> <span style=\"font-size:10px;margin-right:10px;\">classical guitar</span> <span style=\"font-size:10px;margin-right:10px;\">chord</span> <span style=\"font-size:10px;margin-right:10px;\">Synths</span> <span style=\"font-size:10px;margin-right:10px;\">/12</span> <span style=\"font-size:10px;margin-right:10px;\">sounds</span> <span style=\"font-size:10px;margin-right:10px;\">body</span> <span style=\"font-size:10px;margin-right:10px;\">Acoustic guitar</span> <span style=\"font-size:10px;margin-right:10px;\">strings</span> <span style=\"font-size:11px;margin-right:10px;\">https</span> <span style=\"font-size:10px;margin-right:10px;\">Kontakt</span> <span style=\"font-size:10px;margin-right:10px;\">mics</span> <span style=\"font-size:10px;margin-right:10px;\">Lethbridge</span> <span style=\"font-size:10px;margin-right:10px;\">accompanied</span> <span style=\"font-size:10px;margin-right:10px;\">nylon</span> <span style=\"font-size:23px;margin-right:10px;\">Recorded</span> <span style=\"font-size:10px;margin-right:10px;\">tuning</span> <span style=\"font-size:10px;margin-right:10px;\">stereo</span> <span style=\"font-size:10px;margin-right:10px;\">bit</span> <span style=\"font-size:10px;margin-right:10px;\">noise</span> <span style=\"font-size:10px;margin-right:10px;\">licks</span> <span style=\"font-size:10px;margin-right:10px;\">cmd</span> <span style=\"font-size:10px;margin-right:10px;\">record</span> <span style=\"font-size:14px;margin-right:10px;\">This</span> <span style=\"font-size:10px;margin-right:10px;\">created</span> <span style=\"font-size:10px;margin-right:10px;\">Tascam</span> <span style=\"font-size:10px;margin-right:10px;\">D Major</span> <span style=\"font-size:10px;margin-right:10px;\">ST</span> <span style=\"font-size:11px;margin-right:10px;\">bit.ly</span> <span style=\"font-size:10px;margin-right:10px;\">Sound</span> <span style=\"font-size:10px;margin-right:10px;\">Tuning</span> <span style=\"font-size:10px;margin-right:10px;\">Some</span> <span style=\"font-size:10px;margin-right:10px;\">strummed</span> <span style=\"font-size:10px;margin-right:10px;\">Sony</span> <span style=\"font-size:14px;margin-right:10px;\">loop</span> <span style=\"font-size:10px;margin-right:10px;\">samples</span> <span style=\"font-size:10px;margin-right:10px;\">professional</span> <span style=\"font-size:10px;margin-right:10px;\">tascam</span> <span style=\"font-size:10px;margin-right:10px;\">base</span> <span style=\"font-size:10px;margin-right:10px;\">Melodic</span> <span style=\"font-size:10px;margin-right:10px;\">strong</span> <span style=\"font-size:10px;margin-right:10px;\">instrument</span> <span style=\"font-size:10px;margin-right:10px;\">riff</span> <span style=\"font-size:10px;margin-right:10px;\">Acoustic Guitar</span> <span style=\"font-size:13px;margin-right:10px;\">sound</span> <span style=\"font-size:10px;margin-right:10px;\">Zoom</span> <span style=\"font-size:50px;margin-right:10px;\">acoustic guitar</span> <span style=\"font-size:10px;margin-right:10px;\">music</span> <span style=\"font-size:10px;margin-right:10px;\">strumming</span> <span style=\"font-size:10px;margin-right:10px;\">High</span> <span style=\"font-size:11px;margin-right:10px;\">microphone</span> <span style=\"font-size:10px;margin-right:10px;\">short</span> <span style=\"font-size:10px;margin-right:10px;\">Acoustic</span> <span style=\"font-size:10px;margin-right:10px;\">slide</span> <span style=\"font-size:10px;margin-right:10px;\">instrumental</span> <span style=\"font-size:19px;margin-right:10px;\">href</span> <span style=\"font-size:10px;margin-right:10px;\">Piece</span> <span style=\"font-size:13px;margin-right:10px;\">Guitar</span> <span style=\"font-size:10px;margin-right:10px;\">Try</span> <span style=\"font-size:12px;margin-right:10px;\">2016</span> <span style=\"font-size:10px;margin-right:10px;\">reverb</span> <span style=\"font-size:10px;margin-right:10px;\">The</span> <span style=\"font-size:10px;margin-right:10px;\">tuned</span> <span style=\"font-size:10px;margin-right:10px;\">projects</span> <span style=\"font-size:10px;margin-right:10px;\">Yamaha</span> <span style=\"font-size:10px;margin-right:10px;\">direct</span> <span style=\"font-size:43px;margin-right:10px;\">guitar</span> <span style=\"font-size:10px;margin-right:10px;\">MK</span> <span style=\"font-size:10px;margin-right:10px;\">If</span> <span style=\"font-size:10px;margin-right:10px;\">These</span> <span style=\"font-size:10px;margin-right:10px;\">project</span> <span style=\"font-size:10px;margin-right:10px;\">pop</span> <span style=\"font-size:10px;margin-right:10px;\">Sennheiser</span> <span style=\"font-size:10px;margin-right:10px;\">banjo</span> <span style=\"font-size:19px;margin-right:10px;\">rel=\"nofollow\"</span> <span style=\"font-size:10px;margin-right:10px;\">sample</span> <span style=\"font-size:10px;margin-right:10px;\">kind</span> <span style=\"font-size:23px;margin-right:10px;\">http</span> <span style=\"font-size:10px;margin-right:10px;\">octave</span> <span style=\"font-size:10px;margin-right:10px;\">processed</span> <span style=\"font-size:10px;margin-right:10px;\">song</span> <span style=\"font-size:10px;margin-right:10px;\">electric</span> <span style=\"font-size:10px;margin-right:10px;\">noises</span> <span style=\"font-size:10px;margin-right:10px;\">Made</span> <span style=\"font-size:11px;margin-right:10px;\">string</span> <span style=\"font-size:11px;margin-right:10px;\">acoustic</span> <span style=\"font-size:21px;margin-right:10px;\">recorded</span> <span style=\"font-size:10px;margin-right:10px;\">microphones</span> <span style=\"font-size:10px;margin-right:10px;\">It</span> <span style=\"font-size:10px;margin-right:10px;\">Folk</span> <span style=\"font-size:10px;margin-right:10px;\">mic</span> <span style=\"font-size:20px;margin-right:10px;\">played</span> <span style=\"font-size:10px;margin-right:10px;\">Reaper</span> <br>"
      ],
      "text/plain": [
       "<IPython.core.display.HTML object>"
      ]
     },
     "metadata": {},
     "output_type": "display_data"
    }
   ],
   "source": [
    "# Pick some sounds from each category and show players (Freesound embeds) to listen to them\n",
    "for class_name, sounds in dataset.items():\n",
    "    html = \"<h3>%s</h3>\" % class_name\n",
    "    html += \"<h4>Example sounds:</h4>\"\n",
    "    html += utils.generate_html_with_sound_examples([sound['id'] for sound in sounds][:6])\n",
    "    class_tags = utils.get_all_tags_from_class(class_name, dataset)\n",
    "    class_keywords = utils.get_all_keywords_from_class(class_name, dataset)\n",
    "    html += \"<h4>Most commons tags tagcloud:</h4>\"\n",
    "    html += utils.generate_html_tagcloud(class_tags, N=100, max_px=50, min_px=10, pow_scale=1.2)\n",
    "    html += \"<h4>Most commons keywords tagcloud:</h4>\"\n",
    "    html += utils.generate_html_tagcloud(class_keywords, N=100, max_px=50, min_px=10, pow_scale=1.2)\n",
    "    html += \"<br>\"\n",
    "    display(HTML(html)) # <- This is pure jupyter notebook AWESOMENESS magic which renders the HTML in the output of the cell"
   ]
  }
 ],
 "metadata": {
  "kernelspec": {
   "display_name": "Python 2",
   "language": "python",
   "name": "python2"
  },
  "language_info": {
   "codemirror_mode": {
    "name": "ipython",
    "version": 2
   },
   "file_extension": ".py",
   "mimetype": "text/x-python",
   "name": "python",
   "nbconvert_exporter": "python",
   "pygments_lexer": "ipython2",
   "version": "2.7.12"
  }
 },
 "nbformat": 4,
 "nbformat_minor": 0
}
